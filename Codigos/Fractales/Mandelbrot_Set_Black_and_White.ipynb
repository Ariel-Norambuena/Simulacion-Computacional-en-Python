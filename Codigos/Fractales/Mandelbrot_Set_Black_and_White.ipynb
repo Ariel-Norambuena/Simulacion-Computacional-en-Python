{
 "cells": [
  {
   "cell_type": "code",
   "execution_count": 13,
   "id": "8e229661",
   "metadata": {},
   "outputs": [
    {
     "name": "stderr",
     "output_type": "stream",
     "text": [
      "C:\\Users\\GIGABYTE\\AppData\\Local\\Temp\\ipykernel_23976\\1893463531.py:13: RuntimeWarning: overflow encountered in multiply\n",
      "  z = z * z + C\n",
      "C:\\Users\\GIGABYTE\\AppData\\Local\\Temp\\ipykernel_23976\\1893463531.py:13: RuntimeWarning: invalid value encountered in multiply\n",
      "  z = z * z + C\n",
      "C:\\Users\\GIGABYTE\\AppData\\Local\\Temp\\ipykernel_23976\\1893463531.py:14: RuntimeWarning: overflow encountered in absolute\n",
      "  inside = np.abs(z) <= 2  # Si la magnitud de z es mayor que 2, sabemos que el punto no está en el conjunto de Mandelbrot\n"
     ]
    },
    {
     "data": {
      "image/png": "[encoded data removed]",
      "text/plain": [
       "<Figure size 864x864 with 1 Axes>"
      ]
     },
     "metadata": {
      "needs_background": "light"
     },
     "output_type": "display_data"
    }
   ],
   "source": [
    "import numpy as np\n",
    "import matplotlib.pyplot as plt\n",
    "from matplotlib.colors import ListedColormap\n",
    "\n",
    "\n",
    "# Definimos una función para generar el conjunto de Mandelbrot\n",
    "def mandelbrot(C,maxIterations):\n",
    "    \n",
    "    count = np.zeros_like(C, dtype=int)\n",
    "    z = np.zeros_like(C)\n",
    "    \n",
    "    for n in range(maxIterations):\n",
    "        z = z * z + C\n",
    "        inside = np.abs(z) <= 2  # Si la magnitud de z es mayor que 2, sabemos que el punto no está en el conjunto de Mandelbrot\n",
    "        count += inside\n",
    "    Mandelbrot_set = (count == maxIterations)\n",
    "    \n",
    "    return Mandelbrot_set \n",
    "\n",
    "# Definimos los parámetros para la simulación\n",
    "maxIterations = 200\n",
    "gridSize = 500\n",
    "xlim = [-2, 2]\n",
    "ylim = [-2, 2]\n",
    "\n",
    "# Creamos una grilla para buscar si los números complejos son parte del conjunto de Mandelbrot\n",
    "x = np.linspace(xlim[0], xlim[1], gridSize)\n",
    "y = np.linspace(ylim[0], ylim[1], gridSize)\n",
    "xGrid, yGrid = np.meshgrid(x, y)\n",
    "C = xGrid + 1j * yGrid\n",
    "\n",
    "# Usamos la función de Mandelbrot\n",
    "Mandelbrot_set = mandelbrot(C,maxIterations)\n",
    "\n",
    "# Graficamos el conteo    \n",
    "cmapmine = ListedColormap(['w', 'k'], N=2)\n",
    "\n",
    "# Plot matrix\n",
    "plt.figure(figsize=(12, 12))\n",
    "plt.imshow(Mandelbrot_set, cmap=cmapmine, vmin=0, vmax=1, extent=[xlim[0], xlim[1], ylim[0], ylim[1]])\n",
    "plt.axis('off')\n",
    "plt.show()\n"
   ]
  },
  {
   "cell_type": "code",
   "execution_count": null,
   "id": "7a00e678",
   "metadata": {},
   "outputs": [],
   "source": []
  }
 ],
 "metadata": {
  "kernelspec": {
   "display_name": "Python 3 (ipykernel)",
   "language": "python",
   "name": "python3"
  },
  "language_info": {
   "codemirror_mode": {
    "name": "ipython",
    "version": 3
   },
   "file_extension": ".py",
   "mimetype": "text/x-python",
   "name": "python",
   "nbconvert_exporter": "python",
   "pygments_lexer": "ipython3",
   "version": "3.9.12"
  }
 },
 "nbformat": 4,
 "nbformat_minor": 5
}
