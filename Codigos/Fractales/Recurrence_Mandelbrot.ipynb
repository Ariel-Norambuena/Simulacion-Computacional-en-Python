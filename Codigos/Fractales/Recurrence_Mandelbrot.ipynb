{
 "cells": [
  {
   "cell_type": "code",
   "execution_count": 35,
   "id": "2e942359",
   "metadata": {},
   "outputs": [
    {
     "name": "stdout",
     "output_type": "stream",
     "text": [
      "|z(0)|/|C| = 0.0\n",
      "|z(1)|/|C| = 1.0\n",
      "|z(2)|/|C| = 0.5830951894845301\n",
      "|z(3)|/|C| = 0.8362439835359057\n",
      "|z(4)|/|C| = 0.7677010282013695\n",
      "|z(5)|/|C| = 0.6699058174868902\n",
      "|z(6)|/|C| = 0.8332226770655076\n",
      "|z(7)|/|C| = 0.5984154693943138\n",
      "|z(8)|/|C| = 0.8126021486516708\n",
      "|z(9)|/|C| = 0.6490347656492884\n",
      "|z(10)|/|C| = 0.7578624556045233\n",
      "|z(11)|/|C| = 0.7125786688501866\n",
      "|z(12)|/|C| = 0.7075963329382386\n",
      "|z(13)|/|C| = 0.7446161816213578\n",
      "|z(14)|/|C| = 0.6873289334392896\n",
      "|z(15)|/|C| = 0.7462285087633053\n",
      "|z(16)|/|C| = 0.6953785156204393\n",
      "|z(17)|/|C| = 0.7321942553858457\n",
      "|z(18)|/|C| = 0.712110194286389\n",
      "|z(19)|/|C| = 0.7173932411123798\n",
      "|z(20)|/|C| = 0.7233437036456738\n",
      "|z(21)|/|C| = 0.7102743815417607\n",
      "|z(22)|/|C| = 0.7258544299895882\n",
      "|z(23)|/|C| = 0.7110456889795815\n",
      "|z(24)|/|C| = 0.7227697104621154\n",
      "|z(25)|/|C| = 0.7152486814112492\n",
      "|z(26)|/|C| = 0.7185767597443308\n",
      "|z(27)|/|C| = 0.7187657682740006\n",
      "|z(28)|/|C| = 0.7161314742334086\n",
      "|z(29)|/|C| = 0.7200109811437571\n"
     ]
    }
   ],
   "source": [
    "import numpy as np\n",
    "\n",
    "C=-0.5+0.3j\n",
    "\n",
    "def z(n, c):\n",
    "     if n == 0:\n",
    "         return 0\n",
    "     else:\n",
    "         return z(n - 1, c) ** 2 + c\n",
    "    \n",
    "for n in range(30):\n",
    "    print(f\"|z({n})|/|C| = {np.abs(z(n, C))/np.abs(C)}\")    "
   ]
  },
  {
   "cell_type": "code",
   "execution_count": null,
   "id": "679ffdf2",
   "metadata": {},
   "outputs": [],
   "source": []
  }
 ],
 "metadata": {
  "kernelspec": {
   "display_name": "Python 3 (ipykernel)",
   "language": "python",
   "name": "python3"
  },
  "language_info": {
   "codemirror_mode": {
    "name": "ipython",
    "version": 3
   },
   "file_extension": ".py",
   "mimetype": "text/x-python",
   "name": "python",
   "nbconvert_exporter": "python",
   "pygments_lexer": "ipython3",
   "version": "3.9.12"
  }
 },
 "nbformat": 4,
 "nbformat_minor": 5
}
