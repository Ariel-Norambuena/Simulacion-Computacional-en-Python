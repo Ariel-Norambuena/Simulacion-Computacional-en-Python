{
 "cells": [
  {
   "cell_type": "markdown",
   "id": "465441e7",
   "metadata": {},
   "source": [
    "### Importamos las librerias"
   ]
  },
  {
   "cell_type": "code",
   "execution_count": 1,
   "id": "dac50c8f",
   "metadata": {},
   "outputs": [
    {
     "name": "stdout",
     "output_type": "stream",
     "text": [
      "pygame 2.5.2 (SDL 2.28.3, Python 3.10.9)\n",
      "Hello from the pygame community. https://www.pygame.org/contribute.html\n"
     ]
    }
   ],
   "source": [
    "import pygame\n",
    "import numpy as np\n",
    "from scipy.signal import convolve2d"
   ]
  },
  {
   "cell_type": "markdown",
   "id": "c7498f82",
   "metadata": {},
   "source": [
    "### Creamos la función que aplica las reglas del Juego de la Vida"
   ]
  },
  {
   "cell_type": "code",
   "execution_count": 3,
   "id": "871d8250",
   "metadata": {},
   "outputs": [],
   "source": [
    "# Función para aplicar las reglas del Juego de la Vida\n",
    "def GoL_rules(grid):\n",
    "    kernel = np.array([[1, 1, 1],\n",
    "                       [1, 1, 1],\n",
    "                       [1, 1, 1]])\n",
    "    neighbor_count = convolve2d(grid, kernel, mode='same', boundary='wrap')\n",
    "    return (neighbor_count == 3) + ((neighbor_count == 4) & grid)"
   ]
  },
  {
   "cell_type": "markdown",
   "id": "12876a09",
   "metadata": {},
   "source": [
    "### Creamos el tamaño del mundo y el estado del autómata celular de la generación 0"
   ]
  },
  {
   "cell_type": "code",
   "execution_count": 4,
   "id": "db698e7f",
   "metadata": {},
   "outputs": [],
   "source": [
    "N = 200\n",
    "grid = np.random.randint(2, size=(N, N))"
   ]
  },
  {
   "cell_type": "markdown",
   "id": "b796da7b",
   "metadata": {},
   "source": [
    "### Ahora creamos el entorno pygame para mostrar el juego"
   ]
  },
  {
   "cell_type": "code",
   "execution_count": 5,
   "id": "f7010bf9",
   "metadata": {},
   "outputs": [],
   "source": [
    "# Inicializar Pygame\n",
    "pygame.init()\n",
    "\n",
    "# Configuración de la ventana\n",
    "cell_size = 4\n",
    "width, height = N * cell_size, N * cell_size\n",
    "screen = pygame.display.set_mode((width, height))\n",
    "pygame.display.set_caption(\"Conway's Game of Life\")"
   ]
  },
  {
   "cell_type": "markdown",
   "id": "7055106b",
   "metadata": {},
   "source": [
    "### Ahora corremos el buble principal de la simulación (bucle infinito)"
   ]
  },
  {
   "cell_type": "code",
   "execution_count": 6,
   "id": "7b565dcc",
   "metadata": {},
   "outputs": [],
   "source": [
    "# Bucle principal\n",
    "running = True\n",
    "clock = pygame.time.Clock()\n",
    "while running:\n",
    "    for event in pygame.event.get():\n",
    "        if event.type == pygame.QUIT:\n",
    "            running = False\n",
    "\n",
    "    # Aplicar las reglas del juego de la vida\n",
    "    grid = GoL_rules(grid)\n",
    "\n",
    "    # Dibujar el estado actual del juego\n",
    "    screen.fill((0, 0, 0))\n",
    "    for y in range(N):\n",
    "        for x in range(N):\n",
    "            color = (255, 255, 255) if grid[y, x] == 1 else (0, 0, 0)\n",
    "            pygame.draw.rect(screen, color, (x * cell_size, y * cell_size, cell_size, cell_size))\n",
    "\n",
    "    pygame.display.flip()\n",
    "    clock.tick(10)  # Controla la velocidad de la animación ajustando este valor\n",
    "\n",
    "# Finalizar Pygame\n",
    "pygame.quit()"
   ]
  },
  {
   "cell_type": "code",
   "execution_count": null,
   "id": "e172e0a4",
   "metadata": {},
   "outputs": [],
   "source": []
  }
 ],
 "metadata": {
  "kernelspec": {
   "display_name": "Python 3 (ipykernel)",
   "language": "python",
   "name": "python3"
  },
  "language_info": {
   "codemirror_mode": {
    "name": "ipython",
    "version": 3
   },
   "file_extension": ".py",
   "mimetype": "text/x-python",
   "name": "python",
   "nbconvert_exporter": "python",
   "pygments_lexer": "ipython3",
   "version": "3.10.9"
  }
 },
 "nbformat": 4,
 "nbformat_minor": 5
}
