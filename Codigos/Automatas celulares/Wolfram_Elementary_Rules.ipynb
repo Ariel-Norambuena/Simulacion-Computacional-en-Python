{
 "cells": [
  {
   "cell_type": "markdown",
   "id": "6a3633fd",
   "metadata": {},
   "source": [
    "# Importamos librerias"
   ]
  },
  {
   "cell_type": "code",
   "execution_count": 3,
   "id": "707710d2",
   "metadata": {},
   "outputs": [],
   "source": [
    "import numpy as np\n",
    "import matplotlib.pyplot as plt\n",
    "from matplotlib.colors import ListedColormap\n",
    "%matplotlib inline"
   ]
  },
  {
   "cell_type": "markdown",
   "id": "866b6a78",
   "metadata": {},
   "source": [
    "### Definimos el autómata en la generación 0"
   ]
  },
  {
   "cell_type": "code",
   "execution_count": 20,
   "id": "00ef6da1",
   "metadata": {},
   "outputs": [],
   "source": [
    "L = 200\n",
    "X = np.zeros([1,L])\n",
    "middle = int(np.floor(L/2))\n",
    "X[0][middle-1]= 1\n",
    "X[0][middle]= 1\n",
    "X[0][middle+1]= 1"
   ]
  },
  {
   "cell_type": "markdown",
   "id": "d71f5a67",
   "metadata": {},
   "source": [
    "### Definamos la regla 30 como una función"
   ]
  },
  {
   "cell_type": "code",
   "execution_count": 21,
   "id": "fa88629b",
   "metadata": {},
   "outputs": [],
   "source": [
    "def rule_30(X:float,N:int,L:int):\n",
    "    \"\"\"\n",
    "    rule_30 aplica la regla 30 de Wolfram durante N generaciones\n",
    "\n",
    "    :param X: autómata\n",
    "    :param N: número de generaciones \n",
    "    :param L: largo del autómata celular unidimensional  \n",
    "    :return: autómata celular en la generación N, X_N\n",
    "    \"\"\" \n",
    "    X_N = np.zeros([N,L])\n",
    "    X_N[0][:] = X\n",
    "    for gen in range(1,N):\n",
    "        for i in range(1,L-1):\n",
    "            Xleft = X_N[gen-1][i-1]\n",
    "            Xright = X_N[gen-1][i+1]\n",
    "            Xcenter = X_N[gen-1][i]\n",
    "            if Xleft==1 and Xcenter==1 and Xright ==1:\n",
    "                X_N[gen][i]=0\n",
    "            if Xleft==1 and Xcenter==1 and Xright ==0:\n",
    "                X_N[gen][i]=0\n",
    "            if Xleft==1 and Xcenter==0 and Xright ==1:\n",
    "                X_N[gen][i]=0\n",
    "            if Xleft==1 and Xcenter==0 and Xright ==0:\n",
    "                X_N[gen][i]=1\n",
    "            if Xleft==0 and Xcenter==1 and Xright ==1:\n",
    "                X_N[gen][i]=1\n",
    "            if Xleft==0 and Xcenter==1 and Xright ==0:\n",
    "                X_N[gen][i]=1\n",
    "            if Xleft==0 and Xcenter==0 and Xright ==1:\n",
    "                X_N[gen][i]=1\n",
    "            if Xleft==0 and Xcenter==0 and Xright ==0:\n",
    "                X_N[gen][i]=0\n",
    "    return X_N\n",
    "\n",
    "def rule_182(X:float,N:int,L:int):\n",
    "    \"\"\"\n",
    "    rule_30 aplica la regla 30 de Wolfram durante N generaciones\n",
    "\n",
    "    :param X: autómata generación 0\n",
    "    :param N: número de generaciones  \n",
    "    :return: autómata celular en la generación N, X_N\n",
    "    \"\"\" \n",
    "    X_N = np.zeros([N,L])\n",
    "    X_N[0][:] = X\n",
    "    for gen in range(1,N):\n",
    "        for i in range(1,L-1):\n",
    "            Xleft = X_N[gen-1][i-1]\n",
    "            Xright = X_N[gen-1][i+1]\n",
    "            Xcenter = X_N[gen-1][i]\n",
    "            if Xleft==1 and Xcenter==1 and Xright ==1:\n",
    "                X_N[gen][i]=0\n",
    "            if Xleft==1 and Xcenter==1 and Xright ==0:\n",
    "                X_N[gen][i]=0\n",
    "            if Xleft==1 and Xcenter==0 and Xright ==1:\n",
    "                X_N[gen][i]=0\n",
    "            if Xleft==1 and Xcenter==0 and Xright ==0:\n",
    "                X_N[gen][i]=1\n",
    "            if Xleft==0 and Xcenter==1 and Xright ==1:\n",
    "                X_N[gen][i]=1\n",
    "            if Xleft==0 and Xcenter==1 and Xright ==0:\n",
    "                X_N[gen][i]=1\n",
    "            if Xleft==0 and Xcenter==0 and Xright ==1:\n",
    "                X_N[gen][i]=1\n",
    "            if Xleft==0 and Xcenter==0 and Xright ==0:\n",
    "                X_N[gen][i]=0\n",
    "    return X_N"
   ]
  },
  {
   "cell_type": "markdown",
   "id": "f641f973",
   "metadata": {},
   "source": [
    "### Graficamos el aútomata celular"
   ]
  },
  {
   "cell_type": "code",
   "execution_count": 22,
   "id": "b00d6a9d",
   "metadata": {},
   "outputs": [
    {
     "data": {
      "image/png": "[encoded data removed]",
      "text/plain": [
       "<Figure size 640x480 with 1 Axes>"
      ]
     },
     "metadata": {},
     "output_type": "display_data"
    }
   ],
   "source": [
    "# Aplicamos la regla del autómata celular\n",
    "gen = 100\n",
    "X_N = rule_30(X,gen,L)\n",
    "\n",
    "# Parámetros para graficar en dos colores\n",
    "cmapmine = ListedColormap(['w', 'k'], N=2)\n",
    "\n",
    "# Plot matrix\n",
    "plt.imshow(X_N, cmap=cmapmine, vmin=0, vmax=1)\n",
    "ax = plt.gca()\n",
    "ax.set_axis_off()\n",
    "plt.show()"
   ]
  },
  {
   "cell_type": "code",
   "execution_count": null,
   "id": "f34ba0b2",
   "metadata": {},
   "outputs": [],
   "source": []
  },
  {
   "cell_type": "code",
   "execution_count": null,
   "id": "7ec6a2e3",
   "metadata": {},
   "outputs": [],
   "source": []
  }
 ],
 "metadata": {
  "kernelspec": {
   "display_name": "Python 3 (ipykernel)",
   "language": "python",
   "name": "python3"
  },
  "language_info": {
   "codemirror_mode": {
    "name": "ipython",
    "version": 3
   },
   "file_extension": ".py",
   "mimetype": "text/x-python",
   "name": "python",
   "nbconvert_exporter": "python",
   "pygments_lexer": "ipython3",
   "version": "3.10.9"
  }
 },
 "nbformat": 4,
 "nbformat_minor": 5
}
